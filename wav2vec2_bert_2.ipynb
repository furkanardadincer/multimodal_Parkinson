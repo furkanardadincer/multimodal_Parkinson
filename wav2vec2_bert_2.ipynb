{
 "cells": [
  {
   "cell_type": "code",
   "execution_count": 1,
   "id": "002efda3-789d-4a51-b03a-9272dcb60e3e",
   "metadata": {},
   "outputs": [
    {
     "name": "stdout",
     "output_type": "stream",
     "text": [
      "Requirement already satisfied: torch in c:\\users\\user\\anaconda3\\lib\\site-packages (2.7.0)\n",
      "Requirement already satisfied: torchvision in c:\\users\\user\\anaconda3\\lib\\site-packages (0.22.0)\n",
      "Requirement already satisfied: torchaudio in c:\\users\\user\\anaconda3\\lib\\site-packages (2.7.0)\n",
      "Requirement already satisfied: transformers in c:\\users\\user\\anaconda3\\lib\\site-packages (4.51.3)\n",
      "Requirement already satisfied: librosa in c:\\users\\user\\anaconda3\\lib\\site-packages (0.11.0)\n",
      "Requirement already satisfied: scikit-learn in c:\\users\\user\\anaconda3\\lib\\site-packages (1.5.1)\n",
      "Requirement already satisfied: tqdm in c:\\users\\user\\anaconda3\\lib\\site-packages (4.66.5)\n",
      "Requirement already satisfied: filelock in c:\\users\\user\\anaconda3\\lib\\site-packages (from torch) (3.13.1)\n",
      "Requirement already satisfied: typing-extensions>=4.10.0 in c:\\users\\user\\anaconda3\\lib\\site-packages (from torch) (4.11.0)\n",
      "Requirement already satisfied: sympy>=1.13.3 in c:\\users\\user\\anaconda3\\lib\\site-packages (from torch) (1.14.0)\n",
      "Requirement already satisfied: networkx in c:\\users\\user\\anaconda3\\lib\\site-packages (from torch) (3.3)\n",
      "Requirement already satisfied: jinja2 in c:\\users\\user\\anaconda3\\lib\\site-packages (from torch) (3.1.4)\n",
      "Requirement already satisfied: fsspec in c:\\users\\user\\anaconda3\\lib\\site-packages (from torch) (2024.6.1)\n",
      "Requirement already satisfied: setuptools in c:\\users\\user\\anaconda3\\lib\\site-packages (from torch) (75.1.0)\n",
      "Requirement already satisfied: numpy in c:\\users\\user\\anaconda3\\lib\\site-packages (from torchvision) (1.26.4)\n",
      "Requirement already satisfied: pillow!=8.3.*,>=5.3.0 in c:\\users\\user\\anaconda3\\lib\\site-packages (from torchvision) (10.4.0)\n",
      "Requirement already satisfied: huggingface-hub<1.0,>=0.30.0 in c:\\users\\user\\anaconda3\\lib\\site-packages (from transformers) (0.31.2)\n",
      "Requirement already satisfied: packaging>=20.0 in c:\\users\\user\\anaconda3\\lib\\site-packages (from transformers) (24.1)\n",
      "Requirement already satisfied: pyyaml>=5.1 in c:\\users\\user\\anaconda3\\lib\\site-packages (from transformers) (6.0.1)\n",
      "Requirement already satisfied: regex!=2019.12.17 in c:\\users\\user\\anaconda3\\lib\\site-packages (from transformers) (2024.9.11)\n",
      "Requirement already satisfied: requests in c:\\users\\user\\anaconda3\\lib\\site-packages (from transformers) (2.32.3)\n",
      "Requirement already satisfied: tokenizers<0.22,>=0.21 in c:\\users\\user\\anaconda3\\lib\\site-packages (from transformers) (0.21.1)\n",
      "Requirement already satisfied: safetensors>=0.4.3 in c:\\users\\user\\anaconda3\\lib\\site-packages (from transformers) (0.5.3)\n",
      "Requirement already satisfied: audioread>=2.1.9 in c:\\users\\user\\anaconda3\\lib\\site-packages (from librosa) (3.0.1)\n",
      "Requirement already satisfied: numba>=0.51.0 in c:\\users\\user\\anaconda3\\lib\\site-packages (from librosa) (0.60.0)\n",
      "Requirement already satisfied: scipy>=1.6.0 in c:\\users\\user\\anaconda3\\lib\\site-packages (from librosa) (1.13.1)\n",
      "Requirement already satisfied: joblib>=1.0 in c:\\users\\user\\anaconda3\\lib\\site-packages (from librosa) (1.4.2)\n",
      "Requirement already satisfied: decorator>=4.3.0 in c:\\users\\user\\anaconda3\\lib\\site-packages (from librosa) (5.1.1)\n",
      "Requirement already satisfied: soundfile>=0.12.1 in c:\\users\\user\\anaconda3\\lib\\site-packages (from librosa) (0.13.1)\n",
      "Requirement already satisfied: pooch>=1.1 in c:\\users\\user\\anaconda3\\lib\\site-packages (from librosa) (1.8.2)\n",
      "Requirement already satisfied: soxr>=0.3.2 in c:\\users\\user\\anaconda3\\lib\\site-packages (from librosa) (0.5.0.post1)\n",
      "Requirement already satisfied: lazy_loader>=0.1 in c:\\users\\user\\anaconda3\\lib\\site-packages (from librosa) (0.4)\n",
      "Requirement already satisfied: msgpack>=1.0 in c:\\users\\user\\anaconda3\\lib\\site-packages (from librosa) (1.0.3)\n",
      "Requirement already satisfied: threadpoolctl>=3.1.0 in c:\\users\\user\\anaconda3\\lib\\site-packages (from scikit-learn) (3.5.0)\n",
      "Requirement already satisfied: colorama in c:\\users\\user\\anaconda3\\lib\\site-packages (from tqdm) (0.4.6)\n",
      "Requirement already satisfied: llvmlite<0.44,>=0.43.0dev0 in c:\\users\\user\\anaconda3\\lib\\site-packages (from numba>=0.51.0->librosa) (0.43.0)\n",
      "Requirement already satisfied: platformdirs>=2.5.0 in c:\\users\\user\\anaconda3\\lib\\site-packages (from pooch>=1.1->librosa) (3.10.0)\n",
      "Requirement already satisfied: charset-normalizer<4,>=2 in c:\\users\\user\\anaconda3\\lib\\site-packages (from requests->transformers) (3.3.2)\n",
      "Requirement already satisfied: idna<4,>=2.5 in c:\\users\\user\\anaconda3\\lib\\site-packages (from requests->transformers) (3.7)\n",
      "Requirement already satisfied: urllib3<3,>=1.21.1 in c:\\users\\user\\anaconda3\\lib\\site-packages (from requests->transformers) (2.2.3)\n",
      "Requirement already satisfied: certifi>=2017.4.17 in c:\\users\\user\\anaconda3\\lib\\site-packages (from requests->transformers) (2025.4.26)\n",
      "Requirement already satisfied: cffi>=1.0 in c:\\users\\user\\anaconda3\\lib\\site-packages (from soundfile>=0.12.1->librosa) (1.17.1)\n",
      "Requirement already satisfied: mpmath<1.4,>=1.1.0 in c:\\users\\user\\anaconda3\\lib\\site-packages (from sympy>=1.13.3->torch) (1.3.0)\n",
      "Requirement already satisfied: MarkupSafe>=2.0 in c:\\users\\user\\anaconda3\\lib\\site-packages (from jinja2->torch) (2.1.3)\n",
      "Requirement already satisfied: pycparser in c:\\users\\user\\anaconda3\\lib\\site-packages (from cffi>=1.0->soundfile>=0.12.1->librosa) (2.21)\n"
     ]
    }
   ],
   "source": [
    "!pip install torch torchvision torchaudio transformers librosa scikit-learn tqdm"
   ]
  },
  {
   "cell_type": "code",
   "execution_count": 3,
   "id": "041cb858-c60c-4ded-a610-fd609cf18efd",
   "metadata": {},
   "outputs": [],
   "source": [
    "import torch\n",
    "import torch.nn as nn\n",
    "from transformers import Wav2Vec2Model, BertModel\n",
    "\n",
    "class MultimodalFusionNet(nn.Module):\n",
    "    def __init__(self, audio_model_name=\"facebook/wav2vec2-base-960h\", text_model_name=\"bert-base-uncased\", hidden_dim=512, num_classes=2):\n",
    "        super().__init__()\n",
    "        self.audio_model = Wav2Vec2Model.from_pretrained(audio_model_name)\n",
    "        self.text_model = BertModel.from_pretrained(text_model_name)\n",
    "        self.fusion = nn.Sequential(\n",
    "            nn.Linear(self.audio_model.config.hidden_size + self.text_model.config.hidden_size, hidden_dim),\n",
    "            nn.ReLU(),\n",
    "            nn.Dropout(0.2),\n",
    "            nn.Linear(hidden_dim, num_classes)\n",
    "        )\n",
    "\n",
    "    def forward(self, audio_input, audio_mask, text_input, text_mask):\n",
    "        audio_feat = self.audio_model(audio_input, attention_mask=audio_mask).last_hidden_state.mean(dim=1)\n",
    "        text_feat = self.text_model(input_ids=text_input, attention_mask=text_mask).last_hidden_state[:,0,:]\n",
    "        fused = torch.cat([audio_feat, text_feat], dim=1)\n",
    "        logits = self.fusion(fused)\n",
    "        return logits"
   ]
  },
  {
   "cell_type": "markdown",
   "id": "f40aaed9-ac22-4c37-b575-0db333934359",
   "metadata": {},
   "source": [
    "*Custom Dataset and Dataloader*"
   ]
  },
  {
   "cell_type": "code",
   "execution_count": 4,
   "id": "3c31f28d-b137-43c5-b3e2-3fa9581cb4b8",
   "metadata": {},
   "outputs": [],
   "source": [
    "from torch.utils.data import Dataset, DataLoader\n",
    "from transformers import Wav2Vec2Processor, BertTokenizer\n",
    "import librosa\n",
    "\n",
    "class MultimodalDataset(Dataset):\n",
    "    def __init__(self, dataframe, wav2vec_processor, bert_tokenizer, max_length=128):\n",
    "        self.data = dataframe\n",
    "        self.wav2vec_processor = wav2vec_processor\n",
    "        self.bert_tokenizer = bert_tokenizer\n",
    "        self.max_length = max_length\n",
    "\n",
    "    def __len__(self):\n",
    "        return len(self.data)\n",
    "\n",
    "    def __getitem__(self, idx):\n",
    "        audio_path = self.data.iloc[idx]['audio_path']\n",
    "        text_path = self.data.iloc[idx]['transcript_path']\n",
    "        label = int(self.data.iloc[idx]['label'])\n",
    "\n",
    "        # Audio\n",
    "        audio, sr = librosa.load(audio_path, sr=16000)\n",
    "        audio_inputs = self.wav2vec_processor(audio, sampling_rate=16000, return_tensors=\"pt\", padding=True)\n",
    "        audio_input = audio_inputs.input_values[0]\n",
    "        audio_mask = audio_inputs.attention_mask[0] if \"attention_mask\" in audio_inputs else torch.ones_like(audio_input)\n",
    "\n",
    "        # Text\n",
    "        with open(text_path, encoding='utf-8') as f:\n",
    "            text = f.read().strip()\n",
    "        text_inputs = self.bert_tokenizer(text, return_tensors=\"pt\", truncation=True, padding='max_length', max_length=self.max_length)\n",
    "        text_input = text_inputs.input_ids[0]\n",
    "        text_mask = text_inputs.attention_mask[0]\n",
    "\n",
    "        return {\n",
    "            'audio_input': audio_input,\n",
    "            'audio_mask': audio_mask,\n",
    "            'text_input': text_input,\n",
    "            'text_mask': text_mask,\n",
    "            'labels': torch.tensor(label, dtype=torch.long)\n",
    "        }\n"
   ]
  },
  {
   "cell_type": "markdown",
   "id": "b1891897-0833-4d34-b00e-10478b122e2b",
   "metadata": {},
   "source": [
    "*Data Preparation (from CSV/DF)*"
   ]
  },
  {
   "cell_type": "code",
   "execution_count": 5,
   "id": "c3978d90-d5b1-464d-80e7-d962a4723a0c",
   "metadata": {},
   "outputs": [],
   "source": [
    "import pandas as pd\n",
    "import glob\n",
    "\n",
    "data = []\n",
    "for label, folder in [(0, \"C:/Users/user/ParkinsonMultimodal/10sec_Healthy\"), (1, \"C:/Users/user/ParkinsonMultimodal/10sec_Parkinson\")]:\n",
    "    for wav_path in glob.glob(f\"{folder}/*.wav\"):\n",
    "        txt_path = wav_path.replace('.wav', '.txt')\n",
    "        data.append({\n",
    "            'audio_path': wav_path,\n",
    "            'transcript_path': txt_path,\n",
    "            'label': label\n",
    "        })\n",
    "df = pd.DataFrame(data)"
   ]
  },
  {
   "cell_type": "markdown",
   "id": "6dd25982-de31-4011-9269-f2327d93229d",
   "metadata": {},
   "source": [
    "*Set Dataloader*"
   ]
  },
  {
   "cell_type": "code",
   "execution_count": 6,
   "id": "0dfc290c-c5cb-4e43-99d1-ad575013145e",
   "metadata": {},
   "outputs": [],
   "source": [
    "from torch.utils.data import random_split\n",
    "\n",
    "wav2vec_processor = Wav2Vec2Processor.from_pretrained('facebook/wav2vec2-base-960h')\n",
    "bert_tokenizer = BertTokenizer.from_pretrained('bert-base-uncased')\n",
    "\n",
    "dataset = MultimodalDataset(df, wav2vec_processor, bert_tokenizer)\n",
    "train_size = int(0.8 * len(dataset))\n",
    "val_size = len(dataset) - train_size\n",
    "train_dataset, val_dataset = random_split(dataset, [train_size, val_size])\n",
    "\n",
    "train_loader = DataLoader(train_dataset, batch_size=4, shuffle=True)\n",
    "val_loader = DataLoader(val_dataset, batch_size=4)"
   ]
  },
  {
   "cell_type": "markdown",
   "id": "dfc57405-8bce-4a80-91db-b5da9d39f54a",
   "metadata": {},
   "source": [
    "*Modern PyTorch Training Loop*"
   ]
  },
  {
   "cell_type": "code",
   "execution_count": 7,
   "id": "fac51531-f91f-478b-8a0e-981b01b5ea5b",
   "metadata": {},
   "outputs": [
    {
     "name": "stderr",
     "output_type": "stream",
     "text": [
      "Some weights of Wav2Vec2Model were not initialized from the model checkpoint at facebook/wav2vec2-base-960h and are newly initialized: ['masked_spec_embed']\n",
      "You should probably TRAIN this model on a down-stream task to be able to use it for predictions and inference.\n",
      "  0%|          | 0/250 [00:00<?, ?it/s]C:\\Users\\user\\anaconda3\\Lib\\site-packages\\paramiko\\pkey.py:82: CryptographyDeprecationWarning: TripleDES has been moved to cryptography.hazmat.decrepit.ciphers.algorithms.TripleDES and will be removed from this module in 48.0.0.\n",
      "  \"cipher\": algorithms.TripleDES,\n",
      "C:\\Users\\user\\anaconda3\\Lib\\site-packages\\paramiko\\transport.py:219: CryptographyDeprecationWarning: Blowfish has been moved to cryptography.hazmat.decrepit.ciphers.algorithms.Blowfish and will be removed from this module in 45.0.0.\n",
      "  \"class\": algorithms.Blowfish,\n",
      "C:\\Users\\user\\anaconda3\\Lib\\site-packages\\paramiko\\transport.py:243: CryptographyDeprecationWarning: TripleDES has been moved to cryptography.hazmat.decrepit.ciphers.algorithms.TripleDES and will be removed from this module in 48.0.0.\n",
      "  \"class\": algorithms.TripleDES,\n",
      "100%|██████████| 250/250 [38:35<00:00,  9.26s/it]\n"
     ]
    },
    {
     "name": "stdout",
     "output_type": "stream",
     "text": [
      "Epoch 1, Train Loss: 0.4352\n",
      "Epoch 1, Val Loss: 0.1962, Val Acc: 0.9200\n"
     ]
    },
    {
     "name": "stderr",
     "output_type": "stream",
     "text": [
      "100%|██████████| 250/250 [38:05<00:00,  9.14s/it]\n"
     ]
    },
    {
     "name": "stdout",
     "output_type": "stream",
     "text": [
      "Epoch 2, Train Loss: 0.1047\n",
      "Epoch 2, Val Loss: 0.4537, Val Acc: 0.8480\n"
     ]
    },
    {
     "name": "stderr",
     "output_type": "stream",
     "text": [
      "100%|██████████| 250/250 [37:59<00:00,  9.12s/it]\n"
     ]
    },
    {
     "name": "stdout",
     "output_type": "stream",
     "text": [
      "Epoch 3, Train Loss: 0.0446\n",
      "Epoch 3, Val Loss: 0.1944, Val Acc: 0.9200\n"
     ]
    },
    {
     "name": "stderr",
     "output_type": "stream",
     "text": [
      "100%|██████████| 250/250 [38:11<00:00,  9.17s/it]\n"
     ]
    },
    {
     "name": "stdout",
     "output_type": "stream",
     "text": [
      "Epoch 4, Train Loss: 0.0116\n",
      "Epoch 4, Val Loss: 0.2489, Val Acc: 0.9240\n"
     ]
    },
    {
     "name": "stderr",
     "output_type": "stream",
     "text": [
      "100%|██████████| 250/250 [38:16<00:00,  9.19s/it]\n"
     ]
    },
    {
     "name": "stdout",
     "output_type": "stream",
     "text": [
      "Epoch 5, Train Loss: 0.0199\n",
      "Epoch 5, Val Loss: 0.5636, Val Acc: 0.8480\n"
     ]
    },
    {
     "name": "stderr",
     "output_type": "stream",
     "text": [
      "100%|██████████| 250/250 [38:09<00:00,  9.16s/it]\n"
     ]
    },
    {
     "name": "stdout",
     "output_type": "stream",
     "text": [
      "Epoch 6, Train Loss: 0.0169\n",
      "Epoch 6, Val Loss: 0.2020, Val Acc: 0.9280\n"
     ]
    },
    {
     "name": "stderr",
     "output_type": "stream",
     "text": [
      "100%|██████████| 250/250 [38:23<00:00,  9.21s/it]\n"
     ]
    },
    {
     "name": "stdout",
     "output_type": "stream",
     "text": [
      "Epoch 7, Train Loss: 0.0014\n",
      "Epoch 7, Val Loss: 0.2027, Val Acc: 0.9280\n"
     ]
    },
    {
     "name": "stderr",
     "output_type": "stream",
     "text": [
      "100%|██████████| 250/250 [38:03<00:00,  9.13s/it]\n"
     ]
    },
    {
     "name": "stdout",
     "output_type": "stream",
     "text": [
      "Epoch 8, Train Loss: 0.0009\n",
      "Epoch 8, Val Loss: 0.2186, Val Acc: 0.9320\n"
     ]
    },
    {
     "name": "stderr",
     "output_type": "stream",
     "text": [
      "100%|██████████| 250/250 [38:07<00:00,  9.15s/it]\n"
     ]
    },
    {
     "name": "stdout",
     "output_type": "stream",
     "text": [
      "Epoch 9, Train Loss: 0.0006\n",
      "Epoch 9, Val Loss: 0.2340, Val Acc: 0.9320\n"
     ]
    },
    {
     "name": "stderr",
     "output_type": "stream",
     "text": [
      "100%|██████████| 250/250 [37:59<00:00,  9.12s/it]\n"
     ]
    },
    {
     "name": "stdout",
     "output_type": "stream",
     "text": [
      "Epoch 10, Train Loss: 0.0012\n",
      "Epoch 10, Val Loss: 0.2598, Val Acc: 0.9200\n"
     ]
    }
   ],
   "source": [
    "import torch.optim as optim\n",
    "from tqdm import tqdm\n",
    "\n",
    "device = torch.device(\"cuda\" if torch.cuda.is_available() else \"cpu\")\n",
    "model = MultimodalFusionNet().to(device)\n",
    "\n",
    "optimizer = optim.AdamW(model.parameters(), lr=2e-5)\n",
    "criterion = nn.CrossEntropyLoss()\n",
    "\n",
    "num_epochs = 10\n",
    "\n",
    "for epoch in range(num_epochs):\n",
    "    model.train()\n",
    "    train_loss = 0\n",
    "    for batch in tqdm(train_loader):\n",
    "        audio_input = batch['audio_input'].to(device)\n",
    "        audio_mask = batch['audio_mask'].to(device)\n",
    "        text_input = batch['text_input'].to(device)\n",
    "        text_mask = batch['text_mask'].to(device)\n",
    "        labels = batch['labels'].to(device)\n",
    "\n",
    "        optimizer.zero_grad()\n",
    "        outputs = model(audio_input, audio_mask, text_input, text_mask)\n",
    "        loss = criterion(outputs, labels)\n",
    "        loss.backward()\n",
    "        optimizer.step()\n",
    "        train_loss += loss.item()\n",
    "\n",
    "    avg_train_loss = train_loss / len(train_loader)\n",
    "    print(f\"Epoch {epoch+1}, Train Loss: {avg_train_loss:.4f}\")\n",
    "\n",
    "    # Validation\n",
    "    model.eval()\n",
    "    val_loss = 0\n",
    "    correct = 0\n",
    "    total = 0\n",
    "    with torch.no_grad():\n",
    "        for batch in val_loader:\n",
    "            audio_input = batch['audio_input'].to(device)\n",
    "            audio_mask = batch['audio_mask'].to(device)\n",
    "            text_input = batch['text_input'].to(device)\n",
    "            text_mask = batch['text_mask'].to(device)\n",
    "            labels = batch['labels'].to(device)\n",
    "\n",
    "            outputs = model(audio_input, audio_mask, text_input, text_mask)\n",
    "            loss = criterion(outputs, labels)\n",
    "            val_loss += loss.item()\n",
    "            preds = torch.argmax(outputs, dim=1)\n",
    "            correct += (preds == labels).sum().item()\n",
    "            total += labels.size(0)\n",
    "    avg_val_loss = val_loss / len(val_loader)\n",
    "    val_acc = correct / total\n",
    "    print(f\"Epoch {epoch+1}, Val Loss: {avg_val_loss:.4f}, Val Acc: {val_acc:.4f}\")\n"
   ]
  },
  {
   "cell_type": "markdown",
   "id": "11f8d855-6063-44f4-b6ec-8faaf720b4f0",
   "metadata": {},
   "source": [
    "*Confusion Matrix and Other Charts*"
   ]
  },
  {
   "cell_type": "code",
   "execution_count": 9,
   "id": "2fd16699-f46e-4d7e-98e7-541f0eda871a",
   "metadata": {},
   "outputs": [
    {
     "data": {
      "image/png": "[encoded data removed]",
      "text/plain": [
       "<Figure size 640x480 with 2 Axes>"
      ]
     },
     "metadata": {},
     "output_type": "display_data"
    }
   ],
   "source": [
    "import numpy as np\n",
    "from sklearn.metrics import confusion_matrix, ConfusionMatrixDisplay\n",
    "import matplotlib.pyplot as plt\n",
    "\n",
    "# Predict all validation set\n",
    "all_preds = []\n",
    "all_labels = []\n",
    "model.eval()\n",
    "with torch.no_grad():\n",
    "    for batch in val_loader:\n",
    "        audio_input = batch['audio_input'].to(device)\n",
    "        audio_mask = batch['audio_mask'].to(device)\n",
    "        text_input = batch['text_input'].to(device)\n",
    "        text_mask = batch['text_mask'].to(device)\n",
    "        labels = batch['labels'].cpu().numpy()\n",
    "        outputs = model(audio_input, audio_mask, text_input, text_mask)\n",
    "        preds = torch.argmax(outputs, dim=1).cpu().numpy()\n",
    "        all_preds.extend(preds)\n",
    "        all_labels.extend(labels)\n",
    "\n",
    "cm = confusion_matrix(all_labels, all_preds)\n",
    "disp = ConfusionMatrixDisplay(confusion_matrix=cm, display_labels=[\"Healthy\", \"Parkinson\"])\n",
    "disp.plot(cmap='Blues')\n",
    "plt.title(\"Confusion Matrix\")\n",
    "plt.show()\n"
   ]
  },
  {
   "cell_type": "markdown",
   "id": "f91001b6-a154-49ea-b515-f0da15863992",
   "metadata": {},
   "source": [
    "*Classification Report (Precision, Recall, F1, Accuracy) Table*"
   ]
  },
  {
   "cell_type": "code",
   "execution_count": 10,
   "id": "98142557-4ef0-45e3-98c7-36e060b9d81a",
   "metadata": {},
   "outputs": [
    {
     "name": "stdout",
     "output_type": "stream",
     "text": [
      "              precision    recall  f1-score   support\n",
      "\n",
      "     Healthy       0.97      0.87      0.92       127\n",
      "   Parkinson       0.88      0.97      0.92       123\n",
      "\n",
      "    accuracy                           0.92       250\n",
      "   macro avg       0.92      0.92      0.92       250\n",
      "weighted avg       0.92      0.92      0.92       250\n",
      "\n"
     ]
    },
    {
     "data": {
      "text/html": [
       "<style type=\"text/css\">\n",
       "#T_d518c_row0_col0, #T_d518c_row0_col1, #T_d518c_row0_col2, #T_d518c_row1_col0, #T_d518c_row1_col1, #T_d518c_row1_col2, #T_d518c_row2_col0, #T_d518c_row2_col1, #T_d518c_row2_col2, #T_d518c_row2_col3, #T_d518c_row3_col0, #T_d518c_row3_col1, #T_d518c_row3_col2, #T_d518c_row4_col0, #T_d518c_row4_col1, #T_d518c_row4_col2 {\n",
       "  background-color: #f7fbff;\n",
       "  color: #000000;\n",
       "}\n",
       "#T_d518c_row0_col3, #T_d518c_row1_col3, #T_d518c_row3_col3, #T_d518c_row4_col3 {\n",
       "  background-color: #08306b;\n",
       "  color: #f1f1f1;\n",
       "}\n",
       "</style>\n",
       "<table id=\"T_d518c\">\n",
       "  <thead>\n",
       "    <tr>\n",
       "      <th class=\"blank level0\" >&nbsp;</th>\n",
       "      <th id=\"T_d518c_level0_col0\" class=\"col_heading level0 col0\" >precision</th>\n",
       "      <th id=\"T_d518c_level0_col1\" class=\"col_heading level0 col1\" >recall</th>\n",
       "      <th id=\"T_d518c_level0_col2\" class=\"col_heading level0 col2\" >f1-score</th>\n",
       "      <th id=\"T_d518c_level0_col3\" class=\"col_heading level0 col3\" >support</th>\n",
       "    </tr>\n",
       "  </thead>\n",
       "  <tbody>\n",
       "    <tr>\n",
       "      <th id=\"T_d518c_level0_row0\" class=\"row_heading level0 row0\" >Healthy</th>\n",
       "      <td id=\"T_d518c_row0_col0\" class=\"data row0 col0\" >0.97</td>\n",
       "      <td id=\"T_d518c_row0_col1\" class=\"data row0 col1\" >0.87</td>\n",
       "      <td id=\"T_d518c_row0_col2\" class=\"data row0 col2\" >0.92</td>\n",
       "      <td id=\"T_d518c_row0_col3\" class=\"data row0 col3\" >127.00</td>\n",
       "    </tr>\n",
       "    <tr>\n",
       "      <th id=\"T_d518c_level0_row1\" class=\"row_heading level0 row1\" >Parkinson</th>\n",
       "      <td id=\"T_d518c_row1_col0\" class=\"data row1 col0\" >0.88</td>\n",
       "      <td id=\"T_d518c_row1_col1\" class=\"data row1 col1\" >0.97</td>\n",
       "      <td id=\"T_d518c_row1_col2\" class=\"data row1 col2\" >0.92</td>\n",
       "      <td id=\"T_d518c_row1_col3\" class=\"data row1 col3\" >123.00</td>\n",
       "    </tr>\n",
       "    <tr>\n",
       "      <th id=\"T_d518c_level0_row2\" class=\"row_heading level0 row2\" >accuracy</th>\n",
       "      <td id=\"T_d518c_row2_col0\" class=\"data row2 col0\" >0.92</td>\n",
       "      <td id=\"T_d518c_row2_col1\" class=\"data row2 col1\" >0.92</td>\n",
       "      <td id=\"T_d518c_row2_col2\" class=\"data row2 col2\" >0.92</td>\n",
       "      <td id=\"T_d518c_row2_col3\" class=\"data row2 col3\" >0.92</td>\n",
       "    </tr>\n",
       "    <tr>\n",
       "      <th id=\"T_d518c_level0_row3\" class=\"row_heading level0 row3\" >macro avg</th>\n",
       "      <td id=\"T_d518c_row3_col0\" class=\"data row3 col0\" >0.92</td>\n",
       "      <td id=\"T_d518c_row3_col1\" class=\"data row3 col1\" >0.92</td>\n",
       "      <td id=\"T_d518c_row3_col2\" class=\"data row3 col2\" >0.92</td>\n",
       "      <td id=\"T_d518c_row3_col3\" class=\"data row3 col3\" >250.00</td>\n",
       "    </tr>\n",
       "    <tr>\n",
       "      <th id=\"T_d518c_level0_row4\" class=\"row_heading level0 row4\" >weighted avg</th>\n",
       "      <td id=\"T_d518c_row4_col0\" class=\"data row4 col0\" >0.92</td>\n",
       "      <td id=\"T_d518c_row4_col1\" class=\"data row4 col1\" >0.92</td>\n",
       "      <td id=\"T_d518c_row4_col2\" class=\"data row4 col2\" >0.92</td>\n",
       "      <td id=\"T_d518c_row4_col3\" class=\"data row4 col3\" >250.00</td>\n",
       "    </tr>\n",
       "  </tbody>\n",
       "</table>\n"
      ],
      "text/plain": [
       "<pandas.io.formats.style.Styler at 0x21f062d3110>"
      ]
     },
     "metadata": {},
     "output_type": "display_data"
    },
    {
     "data": {
      "image/png": "[encoded data removed]",
      "text/plain": [
       "<Figure size 500x200 with 1 Axes>"
      ]
     },
     "metadata": {},
     "output_type": "display_data"
    }
   ],
   "source": [
    "from sklearn.metrics import classification_report, accuracy_score\n",
    "\n",
    "# Classification report as text\n",
    "print(classification_report(all_labels, all_preds, target_names=[\"Healthy\", \"Parkinson\"]))\n",
    "\n",
    "# As DataFrame (daha görsel)\n",
    "import pandas as pd\n",
    "report = classification_report(all_labels, all_preds, target_names=[\"Healthy\", \"Parkinson\"], output_dict=True)\n",
    "df_report = pd.DataFrame(report).transpose()\n",
    "display(df_report.style.background_gradient(axis=1, cmap='Blues').format(\"{:.2f}\"))\n",
    "\n",
    "# Accuracy bar plot\n",
    "import matplotlib.pyplot as plt\n",
    "acc = accuracy_score(all_labels, all_preds)\n",
    "plt.figure(figsize=(5,2))\n",
    "plt.barh(['Accuracy'], [acc], color='seagreen')\n",
    "plt.xlim(0, 1)\n",
    "plt.xlabel(\"Accuracy\")\n",
    "plt.title(f\"Classification Accuracy: {acc:.2%}\")\n",
    "plt.show()"
   ]
  },
  {
   "cell_type": "markdown",
   "id": "4de585de-b32f-4f99-a9e9-79a632cf0017",
   "metadata": {},
   "source": [
    "*ROC Curve (for Binary Classification)*"
   ]
  },
  {
   "cell_type": "code",
   "execution_count": 11,
   "id": "9fcd266d-793b-414c-9fc9-41106b84ebda",
   "metadata": {},
   "outputs": [
    {
     "data": {
      "image/png": "[encoded data removed]",
      "text/plain": [
       "<Figure size 600x600 with 1 Axes>"
      ]
     },
     "metadata": {},
     "output_type": "display_data"
    }
   ],
   "source": [
    "from sklearn.metrics import roc_curve, auc\n",
    "\n",
    "# Get model probabilities (varsayılan olarak softmax çıkışlı)\n",
    "all_probs = []\n",
    "model.eval()\n",
    "with torch.no_grad():\n",
    "    for batch in val_loader:\n",
    "        audio_input = batch['audio_input'].to(device)\n",
    "        audio_mask = batch['audio_mask'].to(device)\n",
    "        text_input = batch['text_input'].to(device)\n",
    "        text_mask = batch['text_mask'].to(device)\n",
    "        outputs = model(audio_input, audio_mask, text_input, text_mask)\n",
    "        probs = torch.softmax(outputs, dim=1)[:,1].cpu().numpy()  # Parkinson (pozitif class)\n",
    "        all_probs.extend(probs)\n",
    "\n",
    "fpr, tpr, _ = roc_curve(all_labels, all_probs)\n",
    "roc_auc = auc(fpr, tpr)\n",
    "\n",
    "plt.figure(figsize=(6,6))\n",
    "plt.plot(fpr, tpr, label=f'ROC curve (AUC = {roc_auc:.2f})')\n",
    "plt.plot([0,1], [0,1], 'k--')\n",
    "plt.xlabel('False Positive Rate')\n",
    "plt.ylabel('True Positive Rate')\n",
    "plt.title('ROC Curve')\n",
    "plt.legend()\n",
    "plt.show()"
   ]
  },
  {
   "cell_type": "markdown",
   "id": "ea9456fb-efad-4f64-b7ba-cdb3892ca154",
   "metadata": {},
   "source": [
    "*Wrong Prediction Visualization*"
   ]
  },
  {
   "cell_type": "code",
   "execution_count": 12,
   "id": "d6064431-f94c-4fca-8ecf-5f477e5fe94c",
   "metadata": {},
   "outputs": [
    {
     "name": "stdout",
     "output_type": "stream",
     "text": [
      "Wrong predictions: 20 / 250 (8.00%)\n"
     ]
    },
    {
     "data": {
      "image/png": "[encoded data removed]",
      "text/plain": [
       "<Figure size 400x200 with 1 Axes>"
      ]
     },
     "metadata": {},
     "output_type": "display_data"
    }
   ],
   "source": [
    "import numpy as np\n",
    "\n",
    "errors = np.array(all_labels) != np.array(all_preds)\n",
    "num_errors = errors.sum()\n",
    "total = len(all_labels)\n",
    "\n",
    "print(f\"Wrong predictions: {num_errors} / {total} ({num_errors/total:.2%})\")\n",
    "plt.figure(figsize=(4,2))\n",
    "plt.bar(['Correct', 'Wrong'], [total-num_errors, num_errors], color=['skyblue', 'salmon'])\n",
    "plt.title(\"Prediction Distribution\")\n",
    "plt.show()\n"
   ]
  },
  {
   "cell_type": "code",
   "execution_count": null,
   "id": "28484381-9ca6-4fde-9e0c-0bf95e9930ba",
   "metadata": {},
   "outputs": [],
   "source": []
  },
  {
   "cell_type": "code",
   "execution_count": null,
   "id": "10eac500-c825-4cc4-b78d-ffb45393e8c9",
   "metadata": {},
   "outputs": [],
   "source": []
  },
  {
   "cell_type": "code",
   "execution_count": null,
   "id": "e1c4006a-1637-4946-928c-7646c7e1efdc",
   "metadata": {},
   "outputs": [],
   "source": []
  },
  {
   "cell_type": "code",
   "execution_count": null,
   "id": "e7a54595-d5e4-4938-ab46-d2360bae428a",
   "metadata": {},
   "outputs": [],
   "source": []
  },
  {
   "cell_type": "code",
   "execution_count": null,
   "id": "36719bdd-f160-4420-b9d0-b99b959cfa20",
   "metadata": {},
   "outputs": [],
   "source": []
  },
  {
   "cell_type": "code",
   "execution_count": null,
   "id": "df0b238b-bc74-4501-93a6-e1e9c844a660",
   "metadata": {},
   "outputs": [],
   "source": []
  },
  {
   "cell_type": "code",
   "execution_count": null,
   "id": "51bb206b-b4ca-4e2a-8912-3dde44666f6d",
   "metadata": {},
   "outputs": [],
   "source": []
  },
  {
   "cell_type": "code",
   "execution_count": null,
   "id": "9ed32f6b-791a-4f4e-b721-ec47beed83ca",
   "metadata": {},
   "outputs": [],
   "source": []
  },
  {
   "cell_type": "code",
   "execution_count": null,
   "id": "974d285c-1575-4c78-924e-c21adb4cabc1",
   "metadata": {},
   "outputs": [],
   "source": []
  },
  {
   "cell_type": "code",
   "execution_count": null,
   "id": "13945d65-9c13-4066-be4a-8dee09e1d298",
   "metadata": {},
   "outputs": [],
   "source": []
  },
  {
   "cell_type": "code",
   "execution_count": null,
   "id": "0972e901-0fa2-4a49-96e2-52aae73e5f77",
   "metadata": {},
   "outputs": [],
   "source": []
  },
  {
   "cell_type": "code",
   "execution_count": null,
   "id": "a09ac836-2ec7-4e2c-bfe1-c4ee39f1e075",
   "metadata": {},
   "outputs": [],
   "source": []
  },
  {
   "cell_type": "code",
   "execution_count": null,
   "id": "719e54c7-ba35-4985-a64a-030b6d2b41f5",
   "metadata": {},
   "outputs": [],
   "source": []
  },
  {
   "cell_type": "code",
   "execution_count": null,
   "id": "b885a114-3d62-4943-8553-dae7aa04eca8",
   "metadata": {},
   "outputs": [],
   "source": []
  },
  {
   "cell_type": "code",
   "execution_count": null,
   "id": "c9e287cf-60c1-4302-b5f0-6424ee0afa76",
   "metadata": {},
   "outputs": [],
   "source": []
  },
  {
   "cell_type": "code",
   "execution_count": null,
   "id": "e3ce672b-d6e7-4683-a517-d6bfe8a7c46e",
   "metadata": {},
   "outputs": [],
   "source": []
  },
  {
   "cell_type": "code",
   "execution_count": null,
   "id": "ec9fcf01-18ab-401d-b618-69b183348629",
   "metadata": {},
   "outputs": [],
   "source": []
  },
  {
   "cell_type": "code",
   "execution_count": null,
   "id": "783909ad-0913-4b8f-aa4f-2de1631d789f",
   "metadata": {},
   "outputs": [],
   "source": []
  },
  {
   "cell_type": "code",
   "execution_count": null,
   "id": "ae808ba3-3fa3-4894-9e7b-36015922c13c",
   "metadata": {},
   "outputs": [],
   "source": []
  },
  {
   "cell_type": "code",
   "execution_count": null,
   "id": "1d3ff2f3-2b30-4aa3-9995-fa813b69bd87",
   "metadata": {},
   "outputs": [],
   "source": []
  },
  {
   "cell_type": "code",
   "execution_count": null,
   "id": "23412707-2bb4-4ade-9eef-088777048a25",
   "metadata": {},
   "outputs": [],
   "source": []
  }
 ],
 "metadata": {
  "kernelspec": {
   "display_name": "Python [conda env:base] *",
   "language": "python",
   "name": "conda-base-py"
  },
  "language_info": {
   "codemirror_mode": {
    "name": "ipython",
    "version": 3
   },
   "file_extension": ".py",
   "mimetype": "text/x-python",
   "name": "python",
   "nbconvert_exporter": "python",
   "pygments_lexer": "ipython3",
   "version": "3.12.7"
  }
 },
 "nbformat": 4,
 "nbformat_minor": 5
}
