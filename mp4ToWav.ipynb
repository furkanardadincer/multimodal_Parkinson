{
 "cells": [
  {
   "cell_type": "code",
   "execution_count": 1,
   "id": "0bd1d406-6d8d-43b9-b9e6-8dc42949ec54",
   "metadata": {},
   "outputs": [
    {
     "name": "stdout",
     "output_type": "stream",
     "text": [
      "Collecting pytube\n",
      "  Downloading pytube-15.0.0-py3-none-any.whl.metadata (5.0 kB)\n",
      "Requirement already satisfied: pydub in c:\\users\\user\\anaconda3\\lib\\site-packages (0.25.1)\n",
      "Downloading pytube-15.0.0-py3-none-any.whl (57 kB)\n",
      "Installing collected packages: pytube\n",
      "Successfully installed pytube-15.0.0\n"
     ]
    }
   ],
   "source": [
    "!pip install pytube pydub\n"
   ]
  },
  {
   "cell_type": "code",
   "execution_count": 5,
   "id": "066fceb3-3272-496c-8d98-d94fab84779f",
   "metadata": {},
   "outputs": [
    {
     "name": "stdout",
     "output_type": "stream",
     "text": [
      "Collecting yt-dlp\n",
      "  Downloading yt_dlp-2025.4.30-py3-none-any.whl.metadata (173 kB)\n",
      "Downloading yt_dlp-2025.4.30-py3-none-any.whl (3.2 MB)\n",
      "   ---------------------------------------- 0.0/3.2 MB ? eta -:--:--\n",
      "   ------------ --------------------------- 1.0/3.2 MB 7.2 MB/s eta 0:00:01\n",
      "   ---------------------------------------- 3.2/3.2 MB 9.5 MB/s eta 0:00:00\n",
      "Installing collected packages: yt-dlp\n",
      "Successfully installed yt-dlp-2025.4.30\n",
      "Collecting ffmpeg-python\n",
      "  Downloading ffmpeg_python-0.2.0-py3-none-any.whl.metadata (1.7 kB)\n",
      "Collecting future (from ffmpeg-python)\n",
      "  Downloading future-1.0.0-py3-none-any.whl.metadata (4.0 kB)\n",
      "Downloading ffmpeg_python-0.2.0-py3-none-any.whl (25 kB)\n",
      "Downloading future-1.0.0-py3-none-any.whl (491 kB)\n",
      "Installing collected packages: future, ffmpeg-python\n",
      "Successfully installed ffmpeg-python-0.2.0 future-1.0.0\n"
     ]
    }
   ],
   "source": [
    "!pip install yt-dlp\n",
    "!pip install ffmpeg-python"
   ]
  },
  {
   "cell_type": "code",
   "execution_count": 3,
   "id": "12a4a745-c6f8-48f1-a95e-12d3d9b7a03c",
   "metadata": {},
   "outputs": [
    {
     "name": "stdout",
     "output_type": "stream",
     "text": [
      "[youtube] Extracting URL: https://www.youtube.com/watch?v=MQq0aOx5CIg\n",
      "[youtube] MQq0aOx5CIg: Downloading webpage\n",
      "[youtube] MQq0aOx5CIg: Downloading tv client config\n",
      "[youtube] MQq0aOx5CIg: Downloading tv player API JSON\n",
      "[youtube] MQq0aOx5CIg: Downloading ios player API JSON\n",
      "[youtube] MQq0aOx5CIg: Downloading m3u8 information\n",
      "[info] MQq0aOx5CIg: Downloading 1 format(s): 251\n",
      "[download] Destination: audio.webm\n",
      "[download] 100% of    4.14MiB in 00:00:00 at 7.94MiB/s   \n",
      "[ExtractAudio] Destination: audio.wav\n",
      "Deleting original file audio.webm (pass -k to keep)\n",
      "İndirme ve WAV dönüştürme tamamlandı.\n"
     ]
    }
   ],
   "source": [
    "import yt_dlp\n",
    "\n",
    "url = \"https://www.youtube.com/watch?v=MQq0aOx5CIg\"\n",
    "\n",
    "ydl_opts = {\n",
    "    'format': 'bestaudio/best',\n",
    "    'outtmpl': 'audio.%(ext)s',\n",
    "    'postprocessors': [{\n",
    "        'key': 'FFmpegExtractAudio',\n",
    "        'preferredcodec': 'wav',\n",
    "        'preferredquality': '192',\n",
    "    }],\n",
    "}\n",
    "\n",
    "with yt_dlp.YoutubeDL(ydl_opts) as ydl:\n",
    "    ydl.download([url])\n",
    "\n",
    "print(\"İndirme ve WAV dönüştürme tamamlandı.\")\n"
   ]
  }
 ],
 "metadata": {
  "kernelspec": {
   "display_name": "Python [conda env:base] *",
   "language": "python",
   "name": "conda-base-py"
  },
  "language_info": {
   "codemirror_mode": {
    "name": "ipython",
    "version": 3
   },
   "file_extension": ".py",
   "mimetype": "text/x-python",
   "name": "python",
   "nbconvert_exporter": "python",
   "pygments_lexer": "ipython3",
   "version": "3.12.7"
  }
 },
 "nbformat": 4,
 "nbformat_minor": 5
}
